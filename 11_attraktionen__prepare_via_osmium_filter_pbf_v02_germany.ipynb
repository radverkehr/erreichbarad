{
 "cells": [
  {
   "cell_type": "markdown",
   "id": "7f262ef0-420f-4d58-86f3-573ca8467ed6",
   "metadata": {},
   "source": [
    "# 📝 Notebook-Dokumentation\n",
    "\n",
    "**Notebook:** `11_attraktionen__prepare_via_osmium_filter_pbf_v02_germany.ipynb`  \n",
    "**Beschreibung:**  \n",
    "Dieses Notebook verarbeitet eine vollständige `.pbf`-Datei (OpenStreetMap-Rohdaten für Deutschland) in mehreren Schritten:  \n",
    "1. **Filtern relevanter POIs mit `osmium`**,  \n",
    "2. **Konvertieren in GeoPackage mit `ogr2ogr`**,  \n",
    "3. **Zusammenführen aller Layer in ein einheitliches Parquet-Format**.\n",
    "\n",
    "Das Ergebnis ist ein nutzbarer Geodatenbestand für die weitere Verarbeitung in der Erreichbarkeitsanalyse.\n",
    "\n",
    "---\n",
    "\n",
    "### ⚠️ Voraussetzungen\n",
    "\n",
    "- **[Osmium Tool](https://osmcode.org/osmium-tool/)**  \n",
    "  Wird verwendet für schnelles Filtern relevanter OSM-Tags.\n",
    "- **[ogr2ogr (GDAL)](https://gdal.org/download.html)**  \n",
    "  Zum Konvertieren von `.pbf` nach `.gpkg`. Alternativ kann `ogr2ogr` aus einer QGIS-Installation genutzt werden.\n",
    "- Umgebungsvariablen müssen korrekt gesetzt sein, damit die Tools global verfügbar sind.\n",
    "\n",
    "---\n",
    "\n",
    "### 📥 Input\n",
    "\n",
    "- **Rohdaten:**  \n",
    "  `germany-latest.osm-25-03-14.pbf`  \n",
    "  Quelle: [Geofabrik Downloadservice](https://download.geofabrik.de/europe/germany.html)\n",
    "\n",
    "- **Konfigurationsdatei:**  \n",
    "  `osmconf.ini` für `ogr2ogr` (definiert, wie OSM-Tags zu Feldern gemappt werden)\n",
    "\n",
    "---\n",
    "\n",
    "### 🔧 Verarbeitungsschritte\n",
    "\n",
    "1. **Filtern mit Osmium (`tags-filter`)**\n",
    "   - Es werden nur relevante POI-Kategorien extrahiert:\n",
    "     - Bildung (z. B. `school`, `university`)\n",
    "     - Gesundheit (z. B. `hospital`, `doctors`)\n",
    "     - Freizeit & Kultur (z. B. `cinema`, `museum`, `leisure=*`)\n",
    "     - Verwaltung & Behörden (z. B. `townhall`, `police`)\n",
    "     - Einzelhandel & Dienstleistungen (z. B. `shop=*`, `atm`, `hairdresser`)\n",
    "     - Freiraum & Natur (`forest`, `cemetery`, `meadow`, `landuse=*`)\n",
    "   - Ergebnis: gefilterte `.pbf`-Datei z. B. `full_germany_osm-25-03-14.pbf`\n",
    "\n",
    "2. **Konvertieren mit `ogr2ogr`**\n",
    "   - Konvertierung der `.pbf` in eine **GeoPackage-Datei** (`.gpkg`)\n",
    "   - Verwendung der `osmconf.ini` zur Steuerung der Tag-Auswertung\n",
    "   - Format: GeoPackage mit separaten Layern für `points`, `lines`, `multipolygons` etc.\n",
    "\n",
    "3. **Zusammenführen der Layer**\n",
    "   - Alle Layer des `.gpkg` werden in ein gemeinsames GeoDataFrame geladen\n",
    "   - Layernamen werden als Spalte gespeichert (`layer`)\n",
    "   - Export als einheitliche `.parquet`-Datei für schnellen Zugriff in Pandas / GeoPandas\n",
    "\n",
    "---\n",
    "\n",
    "### 📤 Output\n",
    "\n",
    "- `osm_files/full_germany_osm-25-03-14.pbf`  \n",
    "  (gefilterte PBF-Datei mit relevanten Objekten)\n",
    "  \n",
    "- `osm_files/full_germany_osm-25-03-14.gpkg`  \n",
    "  (strukturierte OSM-Daten als GeoPackage, mehrere Layer)\n",
    "\n",
    "- `osm_files/full_germany_osm-25-03-14.parquet`  \n",
    "  (kombinierter Geodatensatz für effiziente Weiterverarbeitung)\n",
    "\n",
    "---\n",
    "\n",
    "### 🧾 Hinweise\n",
    "\n",
    "- Die Filterabfrage in `osmium` ist vollständig anpassbar (z. B. nach weiteren `tags`)\n",
    "- Die Parquet-Datei kann direkt in Jupyter oder in Scoring-Pipelines verwendet werden\n",
    "- Für große Länderdateien dauert der gesamte Prozess nur ca. **1–2 Minuten** bei SSD\n",
    "\n",
    "---\n"
   ]
  },
  {
   "cell_type": "code",
   "execution_count": 1,
   "id": "3f69cfe0-9cdf-4caa-ae5e-52b105cfd253",
   "metadata": {},
   "outputs": [],
   "source": [
    "import geopandas as gpd\n",
    "import pandas as pd\n",
    "\n",
    "\n",
    "import subprocess"
   ]
  },
  {
   "cell_type": "code",
   "execution_count": null,
   "id": "f88d21ca-831f-46c2-b818-f34e322e67f9",
   "metadata": {},
   "outputs": [],
   "source": []
  },
  {
   "cell_type": "markdown",
   "id": "0586dce6",
   "metadata": {},
   "source": [
    "### First Step: Filter Data from OSM PBF based on the given tags"
   ]
  },
  {
   "cell_type": "code",
   "execution_count": null,
   "id": "0e267391",
   "metadata": {},
   "outputs": [
    {
     "name": "stdout",
     "output_type": "stream",
     "text": [
      "🔹 Running:  osmium tags-filter germany-latest.osm-25-03-14.pbf nwr/amenity=school,kindergarten,library,college,university,driving_school,language_school,training nwr/amenity=doctors,dentist,clinic,hospital,pharmacy,nursing_home nwr/healthcare=alternative,counselling,dialysis,hospice,occupational_therapist,physiotherapist,psychotherapist,rehabilitation nwr/amenity=cinema,theatre,museum,arts_centre,place_of_worship,restaurant,bar,cafe nwr/leisure=fitness_centre,swimming_pool,sauna,sports_centre,park,playground,pitch,garden nwr/amenity=townhall,courthouse,fire_station,police,post_office,social_facility nwr/office=government,employment_agency nwr/amenity=bank,atm,hairdresser,optician,fuel,ice_cream,fast_food,food,frozen_food,greengrocer,parcel_locker nwr/shop nwr/landuse=forest,meadow,farmland,cemetery -o osm_files/full_germany_osm-25-03-14.pbf\n",
      "\n"
     ]
    }
   ],
   "source": [
    "### takes for germany 1,5min\n",
    "\n",
    "#### OSMIUM is needed!!! https://osmcode.org/osmium-tool/\n",
    "\n",
    "\n",
    "# Set file paths inside the \"osm_files\" folder\n",
    "base_dir = \"osm_files/\"\n",
    "\n",
    "input_pbf = \"germany-latest.osm-25-03-14.pbf\"  # got from https://download.geofabrik.de/europe/germany.html \n",
    "extracted_pbf = base_dir + \"full_germany_osm-25-03-14.pbf\"\n",
    "\n",
    "\n",
    "filter_command = [\n",
    "    \"osmium\", \"tags-filter\", input_pbf,\n",
    "    \n",
    "    # Bildung (Schulen, Hochschulen, Weiterbildung)\n",
    "    \"nwr/amenity=school,kindergarten,library,college,university,driving_school,language_school,training\",\n",
    "    \n",
    "    # Gesundheitseinrichtungen (Ärzte, Krankenhäuser, Apotheken, Pflegeheime)\n",
    "    \"nwr/amenity=doctors,dentist,clinic,hospital,pharmacy,nursing_home\",\n",
    "    \"nwr/healthcare=alternative,counselling,dialysis,hospice,occupational_therapist,physiotherapist,psychotherapist,rehabilitation\",\n",
    "    \n",
    "    # Kultur & Freizeit (Kinos, Theater, Museen, Restaurants, Bars, Cafés, religiöse Orte)\n",
    "    \"nwr/amenity=cinema,theatre,museum,arts_centre,place_of_worship,restaurant,bar,cafe\",\n",
    "    \"nwr/leisure=fitness_centre,swimming_pool,sauna,sports_centre,park,playground,pitch,garden\",\n",
    "    \n",
    "    # Verwaltung & Behörden (Rathaus, Gerichte, Feuerwehr, Polizei, Post, soziale Einrichtungen)\n",
    "    \"nwr/amenity=townhall,courthouse,fire_station,police,post_office,social_facility\",\n",
    "    \"nwr/office=government,employment_agency\",\n",
    "    \n",
    "    # Einzelhandel & Dienstleistungen (Banken, Geldautomaten, Friseure, Optiker, Lebensmittelgeschäfte, Tankstellen)\n",
    "    \"nwr/amenity=bank,atm,hairdresser,optician,fuel,ice_cream,fast_food,food,frozen_food,greengrocer,parcel_locker\",\n",
    "    \"nwr/shop\",  # Alle Geschäfte\n",
    "    \n",
    "    # Natur & Freiraum (Wälder, Wiesen, Friedhöfe)\n",
    "    \"nwr/landuse=forest,meadow,farmland,cemetery\",\n",
    "    \n",
    "    \"-o\", extracted_pbf\n",
    "]\n",
    "\n",
    "print(\"🔹 Running: \", \" \".join(filter_command))\n",
    "\n",
    "try:\n",
    "    result = subprocess.run(filter_command, capture_output=True, text=True, check=True)\n",
    "    print(result.stdout)  # Erfolgreiche Ausgabe\n",
    "except subprocess.CalledProcessError as e:\n",
    "    print(\"❌ Osmium Fehler:\", e.stderr)  # Fehlerausgabe von osmium"
   ]
  },
  {
   "cell_type": "code",
   "execution_count": null,
   "id": "894099f6",
   "metadata": {},
   "outputs": [],
   "source": []
  },
  {
   "cell_type": "code",
   "execution_count": null,
   "id": "179f0928",
   "metadata": {},
   "outputs": [],
   "source": []
  },
  {
   "cell_type": "code",
   "execution_count": null,
   "id": "ef5b4f48",
   "metadata": {},
   "outputs": [],
   "source": []
  },
  {
   "cell_type": "code",
   "execution_count": 8,
   "id": "0d4b2c4e",
   "metadata": {},
   "outputs": [
    {
     "name": "stdout",
     "output_type": "stream",
     "text": [
      "Running: C:\\Program Files\\QGIS 3.40.5\\bin\\ogrinfo.exe C:\\Users\\simon\\Nextcloud3\\Analysen\\erreichbarad\\attractions_w_osmium\\osm_files\\Wildau_attractions_new.pbf\n",
      "OGRINFO Output:\n",
      "INFO: Open of `C:\\Users\\simon\\Nextcloud3\\Analysen\\erreichbarad\\attractions_w_osmium\\osm_files\\Wildau_attractions_new.pbf'\n",
      "      using driver `OSM' successful.\n",
      "1: points (Point)\n",
      "2: lines (Line String)\n",
      "3: multilinestrings (Multi Line String)\n",
      "4: multipolygons (Multi Polygon)\n",
      "5: other_relations (Geometry Collection)\n",
      "\n"
     ]
    }
   ],
   "source": [
    "import subprocess\n",
    "\n",
    "def ogrinfo_pbf(input_pbf):\n",
    "    ogrinfo_path = r\"C:\\Program Files\\QGIS 3.40.5\\bin\\ogrinfo.exe\"\n",
    "    \n",
    "    cmd = [\n",
    "        ogrinfo_path, \n",
    "        input_pbf\n",
    "    ]\n",
    "\n",
    "    print(\"Running:\", \" \".join(cmd))\n",
    "    try:\n",
    "        result = subprocess.run(cmd, check=True, capture_output=True, text=True)\n",
    "        print(\"OGRINFO Output:\")\n",
    "        print(result.stdout)  # This will display the information about the layers\n",
    "    except subprocess.CalledProcessError as e:\n",
    "        print(\"❌ ogrinfo failed:\")\n",
    "        print(e.stderr)\n",
    "        raise\n",
    "\n",
    "# Example usage\n",
    "input_pbf = r\"C:\\Users\\simon\\Nextcloud3\\Analysen\\erreichbarad\\attractions_w_osmium\\osm_files\\Wildau_attractions_new.pbf\"\n",
    "ogrinfo_pbf(input_pbf)"
   ]
  },
  {
   "cell_type": "markdown",
   "id": "36128430",
   "metadata": {},
   "source": [
    "## tranform filtered pbf germany to geopackage\n",
    "\n",
    " ogr2ogr is needed!!! either install via gdal or use the QGIS version installed on your machine\n",
    " https://gdal.org/download.html   \n",
    " make sure the environment variable is set to the gdal version you want to use\n"
   ]
  },
  {
   "cell_type": "code",
   "execution_count": 33,
   "id": "67fa9dcc",
   "metadata": {},
   "outputs": [
    {
     "name": "stdout",
     "output_type": "stream",
     "text": [
      "Running: C:\\Program Files\\QGIS 3.40.5\\bin\\ogr2ogr.exe -overwrite --config OSM_CONFIG_FILE C:\\Users\\simon\\Nextcloud3\\Analysen\\erreichbarad\\attractions_w_osmium\\osm_files\\osmconf.ini -f GPKG C:\\Users\\simon\\Nextcloud3\\Analysen\\erreichbarad\\attractions_w_osmium\\osm_files\\full_germany_osm-25-03-14.gpkg C:\\Users\\simon\\Nextcloud3\\Analysen\\erreichbarad\\attractions_w_osmium\\osm_files\\full_germany_osm-25-03-14.pbf\n",
      "GeoPackage created successfully:\n",
      "0...10...20...30...40...50...60...70...80...90...100 - done.\n",
      "\n"
     ]
    }
   ],
   "source": [
    "import subprocess\n",
    "import os\n",
    "\n",
    "def ogr2ogr_to_geopackage(input_pbf, output_gpkg, osmconf_path=None):\n",
    "    ogr2ogr_path = r\"C:\\Program Files\\QGIS 3.40.5\\bin\\ogr2ogr.exe\"\n",
    "\n",
    "    cmd = [\n",
    "        ogr2ogr_path,\n",
    "        \"-overwrite\",                 # Overwrite the output file if it exists\n",
    "        \"--config\",                   # Use configuration file\n",
    "        \"OSM_CONFIG_FILE\",            # The config parameter key\n",
    "        osmconf_path,                 # Path to the osmconf.ini\n",
    "        \"-f\", \"GPKG\",  # Output format: GeoPackage\n",
    "        #\"-f\", \"Parquet\",  # Output format: GeoPackage\n",
    "        output_gpkg,   # Output GeoPackage file\n",
    "        input_pbf#,      # Input .pbf file\n",
    "       # \"-oo OSM_CONFIG_FILE=C:/path/to/your/osmconf.ini\"\n",
    "    ]\n",
    "    print(\"Running:\", \" \".join(cmd))  # Print the full command for debugging\n",
    "\n",
    "    try:\n",
    "        result = subprocess.run(cmd, check=True, capture_output=True, text=True)\n",
    "        print(\"GeoPackage created successfully:\")\n",
    "        print(result.stdout)\n",
    "    except subprocess.CalledProcessError as e:\n",
    "        print(\"❌ ogr2ogr failed during conversion to GeoPackage:\")\n",
    "        print(e.stderr)\n",
    "        raise\n",
    "\n",
    "# Example usage\n",
    "#input_pbf = r\"C:\\Users\\simon\\Nextcloud3\\Analysen\\erreichbarad\\attractions_w_osmium\\osm_files\\Wildau_attractions_new.pbf\"\n",
    "input_pbf = r\"C:\\Users\\simon\\Nextcloud3\\Analysen\\erreichbarad\\attractions_w_osmium\\osm_files\\full_germany_osm-25-03-14.pbf\"\n",
    "\n",
    "output_gpkg = r\"C:\\Users\\simon\\Nextcloud3\\Analysen\\erreichbarad\\attractions_w_osmium\\osm_files\\full_germany_osm-25-03-14.gpkg\"\n",
    "#output_gpkg = r\"C:\\Users\\simon\\Nextcloud3\\Analysen\\erreichbarad\\attractions_w_osmium\\osm_files\\Wildau_attractions_new_meeeerrr.parquet\"\n",
    "\n",
    "osmconf_path=r\"C:\\Users\\simon\\Nextcloud3\\Analysen\\erreichbarad\\attractions_w_osmium\\osm_files\\osmconf.ini\"\n",
    "\n",
    "ogr2ogr_to_geopackage(input_pbf, output_gpkg, osmconf_path)\n"
   ]
  },
  {
   "cell_type": "code",
   "execution_count": null,
   "id": "b3ae9c43",
   "metadata": {},
   "outputs": [],
   "source": []
  },
  {
   "cell_type": "markdown",
   "id": "095ebf4d",
   "metadata": {},
   "source": [
    "now its time to convert gpkg into geoparquet"
   ]
  },
  {
   "cell_type": "code",
   "execution_count": 41,
   "id": "10c9ca63",
   "metadata": {},
   "outputs": [
    {
     "name": "stdout",
     "output_type": "stream",
     "text": [
      "Layers in GeoPackage:\n",
      "points\n",
      "lines\n",
      "multilinestrings\n",
      "multipolygons\n",
      "other_relations\n"
     ]
    }
   ],
   "source": [
    "import fiona\n",
    "\n",
    "def list_gpkg_layers(gpkg_file):\n",
    "    # List all layers in the GeoPackage\n",
    "    layers = fiona.listlayers(gpkg_file)\n",
    "    print(\"Layers in GeoPackage:\")\n",
    "    for layer in layers:\n",
    "        print(layer)\n",
    "\n",
    "# Example usage\n",
    "gpkg_file = r\"C:\\Users\\simon\\Nextcloud3\\Analysen\\erreichbarad\\attractions_w_osmium\\osm_files\\full_germany_osm-25-03-14.gpkg\"\n",
    "list_gpkg_layers(gpkg_file)"
   ]
  },
  {
   "cell_type": "code",
   "execution_count": null,
   "id": "13887003",
   "metadata": {},
   "outputs": [
    {
     "name": "stdout",
     "output_type": "stream",
     "text": [
      "Reading layer: points\n",
      "Reading layer: lines\n",
      "Reading layer: multilinestrings\n",
      "Reading layer: multipolygons\n",
      "Reading layer: other_relations\n",
      "GeoDataFrame saved as Parquet: C:\\Users\\simon\\Nextcloud3\\Analysen\\erreichbarad\\attractions_w_osmium\\osm_files\\full_germany_osm.parquet\n"
     ]
    }
   ],
   "source": [
    "import geopandas as gpd\n",
    "import fiona\n",
    "import pandas as pd\n",
    "\n",
    "def save_all_layers_to_parquet(gpkg_file, output_parquet):\n",
    "    # List all layers in the GeoPackage\n",
    "    layers = fiona.listlayers(gpkg_file)\n",
    "    \n",
    "    # List to store individual GeoDataFrames\n",
    "    all_layers = []\n",
    "\n",
    "    # Loop through all layers and read each one\n",
    "    for layer_name in layers:\n",
    "        print(f\"Reading layer: {layer_name}\")\n",
    "        \n",
    "        # Read the layer into a GeoDataFrame\n",
    "        gdf = gpd.read_file(gpkg_file, layer=layer_name)\n",
    "        \n",
    "        # Add the layer name as a column to identify the layer\n",
    "        gdf['layer'] = layer_name\n",
    "        \n",
    "        # Append the GeoDataFrame to the list\n",
    "        all_layers.append(gdf)\n",
    "\n",
    "    # Concatenate all GeoDataFrames into a single one\n",
    "    combined_gdf = pd.concat(all_layers, ignore_index=True)\n",
    "\n",
    "    # Convert to GeoDataFrame (necessary to keep the geometry column)\n",
    "    combined_gdf = gpd.GeoDataFrame(combined_gdf, geometry='geometry')\n",
    "\n",
    "    # Save to Parquet\n",
    "    combined_gdf.to_parquet(output_parquet)\n",
    "    print(f\"GeoDataFrame saved as Parquet: {output_parquet}\")\n",
    "    combined_gdf\n",
    "\n",
    "# Example usage\n",
    "gpkg_file = r\"C:\\Users\\simon\\Nextcloud3\\Analysen\\erreichbarad\\attractions_w_osmium\\osm_files\\full_germany_osm-25-03-14.gpkg\"\n",
    "output_parquet = r\"C:\\Users\\simon\\Nextcloud3\\Analysen\\erreichbarad\\attractions_w_osmium\\osm_files\\full_germany_osm-25-03-14.parquet\"\n",
    "\n",
    "save_all_layers_to_parquet(gpkg_file, output_parquet)\n"
   ]
  }
 ],
 "metadata": {
  "kernelspec": {
   "display_name": "Python 3 (ipykernel)",
   "language": "python",
   "name": "python3"
  },
  "language_info": {
   "codemirror_mode": {
    "name": "ipython",
    "version": 3
   },
   "file_extension": ".py",
   "mimetype": "text/x-python",
   "name": "python",
   "nbconvert_exporter": "python",
   "pygments_lexer": "ipython3",
   "version": "3.12.6"
  }
 },
 "nbformat": 4,
 "nbformat_minor": 5
}
