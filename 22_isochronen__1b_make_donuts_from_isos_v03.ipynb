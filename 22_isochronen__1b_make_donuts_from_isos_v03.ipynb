{
 "cells": [
  {
   "cell_type": "markdown",
   "id": "ba98edf2-35b9-49b1-b60d-6f938db563bd",
   "metadata": {},
   "source": [
    "# 📝 Notebook-Dokumentation\n",
    "\n",
    "**Notebook:** `22_isochronen__`  \n",
    "**Beschreibung:**  \n",
    "Für jede Kombination aus Postleitzahl (PLZ) und Verkehrsmodus (`bike`, `my_bike_cycleways`, `cargo_bike`) wird aus den vorhandenen Isochronen (`.parquet`) eine sogenannte **Isodonut-Datei** erzeugt.  \n",
    "**Isodonuts** sind gestanzte Isochronen (d.h. ringförmige Zonen zwischen zwei Zeitbuckets), die eine intuitivere Darstellung und eine bessere Grundlage für Scoring-Berechnungen bieten.\n",
    "\n",
    "---\n",
    "\n",
    "### 📥 Input\n",
    "\n",
    "- Isochronen-Dateien pro PLZ und Modus  \n",
    "  z. B. `/isochronen/{scenario_name}/86830_25-05-09_isochrones_6x5min__bike.parquet`\n",
    "\n",
    "---\n",
    "\n",
    "### 🔧 Verarbeitungsschritte\n",
    "\n",
    "- Iteration über alle gültigen Postleitzahlen (`valid_plz_difference`) und definierten Modi (`bike`, `my_bike_cycleways`, `cargo_bike`)\n",
    "- Für jede Kombination:\n",
    "  - Laden der zugehörigen Isochronen-Datei (`*.parquet`)\n",
    "  - Sortierung der Isochronen nach `id` (Rasterzelle) und `time_bucket` absteigend\n",
    "  - Erzeugung der **Isodonuts** durch:\n",
    "    - Differenzbildung benachbarter Isochronen-Geometrien (z. B. 10min-Zone minus 5min-Zone)\n",
    "    - Entfernen leerer Geometrien nach der Differenzbildung\n",
    "  - Vereinfachung (Topologie-basiert) jeder einzelnen Gruppe via `TopoJSON`:\n",
    "    - Anwendung von `toposimplify()` auf gruppierte Geometrien (je Rasterzelle)\n",
    "    - Ergebnis ist eine saubere, speicherschonende Geometrie, ideal für Visualisierung\n",
    "  - Speicherung der erzeugten Isodonut-Geometrien als `.parquet`-Datei\n",
    "- Protokollierung aller Schritte und Fehlerbehandlung über eigenes Logfile pro Tag\n",
    "- \n",
    "- note: vielleicht kann man irgendwann das hier nehmen umd den przess zu vereinfachen: https://shapely.readthedocs.io/en/stable/release/2.x.html#coverage-validation-and-simplification\n",
    "---\n",
    "\n",
    "### 📤 Output\n",
    "\n",
    "- Isodonut-Dateien pro PLZ und Modus  \n",
    "  z. B. `isochronen/{scenario_name}/isodon/{plz}_{date_today}_isoDonuts_6x5min__{m}_simp0002.parquett`\n",
    "---\n",
    "\n"
   ]
  },
  {
   "cell_type": "code",
   "execution_count": null,
   "id": "7d48f8f1-54e0-414c-b7cd-16eb67871aec",
   "metadata": {},
   "outputs": [],
   "source": []
  },
  {
   "cell_type": "code",
   "execution_count": null,
   "id": "1b0cc4a3-2fb7-476e-a1c3-46585f60eff1",
   "metadata": {},
   "outputs": [],
   "source": []
  },
  {
   "cell_type": "code",
   "execution_count": null,
   "id": "2d615abc-1ed2-49c0-b55d-98c125f00642",
   "metadata": {},
   "outputs": [],
   "source": []
  },
  {
   "cell_type": "code",
   "execution_count": 4,
   "id": "6f3e0b47-97fa-465f-b1a1-6ce7f51b6822",
   "metadata": {},
   "outputs": [],
   "source": [
    "# input: isochornen\n",
    "# output: isochornen als donuts"
   ]
  },
  {
   "cell_type": "code",
   "execution_count": 16,
   "id": "e442dffe-7bf2-4f96-a80a-3e7d8c669d51",
   "metadata": {},
   "outputs": [],
   "source": [
    "import geopandas as gpd\n",
    "import pandas as pd\n",
    "\n",
    "from datetime import datetime\n",
    "from tqdm import tqdm\n",
    "\n",
    "from shapely.geometry import Polygon\n",
    "import topojson\n",
    "import warnings\n",
    "\n",
    "import os\n",
    "\n",
    "import glob\n",
    "import re\n",
    "from collections import Counter\n",
    "\n",
    "\n"
   ]
  },
  {
   "cell_type": "code",
   "execution_count": null,
   "id": "529b3514-064b-44cb-b555-74202b8c6b41",
   "metadata": {},
   "outputs": [],
   "source": []
  },
  {
   "cell_type": "code",
   "execution_count": null,
   "id": "54304203-756f-41d9-978d-55836bf06003",
   "metadata": {},
   "outputs": [],
   "source": []
  },
  {
   "cell_type": "code",
   "execution_count": 18,
   "id": "b5e996f1-da86-489a-b2ef-8d40c4729b58",
   "metadata": {},
   "outputs": [],
   "source": [
    "scenario_name=\"test_plz_88636\"\n",
    "\n",
    "# Ensure isochronen_dir directory exists\n",
    "isochronen_dir  = f\"isochronen/{scenario_name}/\""
   ]
  },
  {
   "cell_type": "code",
   "execution_count": null,
   "id": "8537d05e-faaa-4446-be52-da9cb542f842",
   "metadata": {},
   "outputs": [],
   "source": []
  },
  {
   "cell_type": "markdown",
   "id": "50fd6691-4a66-4ec0-a482-8716d021151c",
   "metadata": {},
   "source": [
    "### for these PLZ isochrones exists"
   ]
  },
  {
   "cell_type": "code",
   "execution_count": 19,
   "id": "58ae764e-9c43-41f9-9b4a-9df07b95557d",
   "metadata": {},
   "outputs": [
    {
     "name": "stdout",
     "output_type": "stream",
     "text": [
      "PLZs that appeared at least 3 times: ['88636']\n",
      "PLZs that appeared at least 3 times, number: 1\n",
      "PLZs that did NOT appear 3 times: []\n"
     ]
    }
   ],
   "source": [
    "\n",
    "\n",
    "# Get all files in the \"data/isos\" folder\n",
    "#files = glob.glob(\"data/isos/*\")\n",
    "#files = glob.glob(\"../../storage/isos_ger/*\")\n",
    "files = glob.glob(f\"{isochronen_dir}*\")\n",
    "#output_path = f\"../../storage/isos_ger/{p}_{current_date}_isochrones_{buckets}x{time_limit_bucket}min__{m}.parquet\"\n",
    "\n",
    "# Extract PLZ (assuming it's the first numeric part of the filename)\n",
    "plz_list = []\n",
    "for file in files:\n",
    "    match = re.search(r\"(\\d{5})\", file)  # Looks for a 5-digit number\n",
    "    if match:\n",
    "        plz_list.append(match.group(1))\n",
    "\n",
    "# Count occurrences of each PLZ\n",
    "plz_counts = Counter(plz_list)\n",
    "\n",
    "# Filter PLZs that appear at least 3 times\n",
    "valid_plz_isochrone = [plz for plz, count in plz_counts.items() if count >= 3]\n",
    "\n",
    "# Find PLZs that did not appear at least 3 times\n",
    "invalid_plz = [plz for plz, count in plz_counts.items() if count < 3]\n",
    "\n",
    "# Print results\n",
    "print(\"PLZs that appeared at least 3 times:\", valid_plz_isochrone)\n",
    "print(\"PLZs that appeared at least 3 times, number:\", len(valid_plz_isochrone))\n",
    "print(\"PLZs that did NOT appear 3 times:\", invalid_plz)"
   ]
  },
  {
   "cell_type": "markdown",
   "id": "4288f6d7-45de-4da9-b176-079ecbc18caf",
   "metadata": {},
   "source": [
    "### for these PLZ isodons exists"
   ]
  },
  {
   "cell_type": "code",
   "execution_count": 32,
   "id": "5fdfb5f4-f89f-459a-9de2-0c3048b7a5ff",
   "metadata": {},
   "outputs": [
    {
     "name": "stdout",
     "output_type": "stream",
     "text": [
      "PLZs that appeared at least 3 times: []\n",
      "PLZs that appeared at least 3 times, number: 0\n",
      "PLZs that did NOT appear 3 times: []\n"
     ]
    }
   ],
   "source": [
    "import glob\n",
    "import re\n",
    "from collections import Counter\n",
    "\n",
    "\n",
    "output_dir_isodon  = f\"isochronen/{scenario_name}/isodon\"\n",
    "# Ensure output directory exists\n",
    "os.makedirs(output_dir_isodon, exist_ok=True)\n",
    "\n",
    "# Get all files in the \"data/isos\" folder\n",
    "#files = glob.glob(\"data/isos/isodon/*\")\n",
    "files = glob.glob(f\"{output_dir_isodon}/*\")\n",
    "\n",
    "# Extract PLZ (assuming it's the first numeric part of the filename)\n",
    "plz_list = []\n",
    "for file in files:\n",
    "    match = re.search(r\"(\\d{5})\", file)  # Looks for a 5-digit number\n",
    "    if match:\n",
    "        plz_list.append(match.group(1))\n",
    "\n",
    "# Count occurrences of each PLZ\n",
    "plz_counts = Counter(plz_list)\n",
    "\n",
    "# Filter PLZs that appear at least 3 times\n",
    "valid_plz_isodon = [plz for plz, count in plz_counts.items() if count >= 3]\n",
    "\n",
    "# Find PLZs that did not appear at least 3 times\n",
    "invalid_plz = [plz for plz, count in plz_counts.items() if count < 3]\n",
    "\n",
    "# Print results\n",
    "print(\"PLZs that appeared at least 3 times:\", valid_plz_isodon)\n",
    "print(\"PLZs that appeared at least 3 times, number:\", len(valid_plz_isodon))\n",
    "print(\"PLZs that did NOT appear 3 times:\", invalid_plz)"
   ]
  },
  {
   "cell_type": "code",
   "execution_count": null,
   "id": "8228bc13-2791-4ac2-a1c1-f8b0301dc933",
   "metadata": {},
   "outputs": [],
   "source": []
  },
  {
   "cell_type": "code",
   "execution_count": 33,
   "id": "153db845-1e8b-4c90-aa49-5d267a5c7c24",
   "metadata": {},
   "outputs": [],
   "source": [
    "# Find elements in B but not in A\n",
    "valid_plz_difference = list(set(valid_plz_isochrone) - set(valid_plz_isodon))"
   ]
  },
  {
   "cell_type": "code",
   "execution_count": 34,
   "id": "82e97791-79b3-4697-a119-134900ee3b2c",
   "metadata": {},
   "outputs": [
    {
     "data": {
      "text/plain": [
       "1"
      ]
     },
     "execution_count": 34,
     "metadata": {},
     "output_type": "execute_result"
    }
   ],
   "source": [
    "len(valid_plz_difference)"
   ]
  },
  {
   "cell_type": "code",
   "execution_count": null,
   "id": "ed55f609-fa0b-478f-b5cd-ec331335c524",
   "metadata": {},
   "outputs": [],
   "source": []
  },
  {
   "cell_type": "code",
   "execution_count": null,
   "id": "ae35dfc1-025b-4066-a0e4-68e1f976e5ca",
   "metadata": {},
   "outputs": [],
   "source": []
  },
  {
   "cell_type": "code",
   "execution_count": 35,
   "id": "f174bd5e-35e6-4673-aa47-bc0c8e4e2bff",
   "metadata": {},
   "outputs": [
    {
     "name": "stdout",
     "output_type": "stream",
     "text": [
      "[2025-05-21 12:59:26] Processing PLZ 1/1: 88636\n",
      "[2025-05-21 12:59:26]  Processing Mode: bike\n",
      "[2025-05-21 12:59:27]     Loaded 996 records.\n",
      "[2025-05-21 12:59:27]  Subtraction Start: 2025-05-21 12:59:27\n",
      "[2025-05-21 12:59:27]     Unique Raster IDs: 166\n"
     ]
    },
    {
     "name": "stderr",
     "output_type": "stream",
     "text": [
      "Subtracting Geometries: 100%|██████████| 166/166 [00:01<00:00, 159.96it/s]\n"
     ]
    },
    {
     "name": "stdout",
     "output_type": "stream",
     "text": [
      "[2025-05-21 12:59:28]  Subtraction Done: 2025-05-21 12:59:28\n",
      "[2025-05-21 12:59:28]  Starting TopoJSON Simplification...\n"
     ]
    },
    {
     "name": "stderr",
     "output_type": "stream",
     "text": [
      "Simplifying Polygons: 100%|██████████| 166/166 [00:23<00:00,  6.97it/s]\n"
     ]
    },
    {
     "name": "stdout",
     "output_type": "stream",
     "text": [
      "[2025-05-21 12:59:51]  TopoJSON Simplification Done: 2025-05-21 12:59:51\n",
      "[2025-05-21 12:59:52]  Saved to: isochronen/test_plz_88636/isodon/88636_2025-05-21_isoDonuts_6x5min__bike_simp0002.parquet\n",
      "\n",
      "[2025-05-21 12:59:52]  Processing Mode: my_bike_cycleways\n",
      "[2025-05-21 12:59:52]     Loaded 996 records.\n",
      "[2025-05-21 12:59:52]  Subtraction Start: 2025-05-21 12:59:52\n",
      "[2025-05-21 12:59:52]     Unique Raster IDs: 166\n"
     ]
    },
    {
     "name": "stderr",
     "output_type": "stream",
     "text": [
      "Subtracting Geometries: 100%|██████████| 166/166 [00:00<00:00, 174.04it/s]\n"
     ]
    },
    {
     "name": "stdout",
     "output_type": "stream",
     "text": [
      "[2025-05-21 12:59:53]  Subtraction Done: 2025-05-21 12:59:53\n",
      "[2025-05-21 12:59:53]  Starting TopoJSON Simplification...\n"
     ]
    },
    {
     "name": "stderr",
     "output_type": "stream",
     "text": [
      "Simplifying Polygons: 100%|██████████| 166/166 [00:23<00:00,  7.14it/s]\n"
     ]
    },
    {
     "name": "stdout",
     "output_type": "stream",
     "text": [
      "[2025-05-21 13:00:16]  TopoJSON Simplification Done: 2025-05-21 13:00:16\n",
      "[2025-05-21 13:00:16]  Saved to: isochronen/test_plz_88636/isodon/88636_2025-05-21_isoDonuts_6x5min__my_bike_cycleways_simp0002.parquet\n",
      "\n",
      "[2025-05-21 13:00:16]  Processing Mode: cargo_bike\n",
      "[2025-05-21 13:00:16]     Loaded 996 records.\n",
      "[2025-05-21 13:00:16]  Subtraction Start: 2025-05-21 13:00:16\n",
      "[2025-05-21 13:00:16]     Unique Raster IDs: 166\n"
     ]
    },
    {
     "name": "stderr",
     "output_type": "stream",
     "text": [
      "Subtracting Geometries: 100%|██████████| 166/166 [00:01<00:00, 162.07it/s]\n"
     ]
    },
    {
     "name": "stdout",
     "output_type": "stream",
     "text": [
      "[2025-05-21 13:00:17]  Subtraction Done: 2025-05-21 13:00:17\n",
      "[2025-05-21 13:00:17]  Starting TopoJSON Simplification...\n"
     ]
    },
    {
     "name": "stderr",
     "output_type": "stream",
     "text": [
      "Simplifying Polygons: 100%|██████████| 166/166 [00:18<00:00,  9.17it/s]\n"
     ]
    },
    {
     "name": "stdout",
     "output_type": "stream",
     "text": [
      "[2025-05-21 13:00:35]  TopoJSON Simplification Done: 2025-05-21 13:00:35\n",
      "[2025-05-21 13:00:35]  Saved to: isochronen/test_plz_88636/isodon/88636_2025-05-21_isoDonuts_6x5min__cargo_bike_simp0002.parquet\n",
      "\n"
     ]
    }
   ],
   "source": [
    "\n",
    "\n",
    "\n",
    "\n",
    "\n",
    "\n",
    "# Transport modes\n",
    "modes = [\"bike\", \"my_bike_cycleways\", \"cargo_bike\"]\n",
    "#plz = \"53902\"\n",
    "\n",
    "# Open the log file in append mode\n",
    "log_file_path = f\"{output_dir_isodon}/processing_isodons_log_{datetime.now().strftime('%Y-%m-%d')}.txt\"\n",
    "\n",
    "def log(message):\n",
    "    timestamp = datetime.now().strftime('%Y-%m-%d %H:%M:%S')\n",
    "    full_message = f\"[{timestamp}] {message}\"\n",
    "    print(full_message)  # still print to console\n",
    "    with open(log_file_path, \"a\") as f:\n",
    "        f.write(full_message + \"\\n\")\n",
    "\n",
    "\n",
    "# Iterate over valid PLZs with monitoring\n",
    "for i, plz in enumerate(valid_plz_difference, start=1):\n",
    "    log(f\"Processing PLZ {i}/{len(valid_plz_difference)}: {plz}\")\n",
    "    for m in modes:\n",
    "    \n",
    "        log(f\" Processing Mode: {m}\")\n",
    "    \n",
    "        # Load Isochrone Data\n",
    "        #file_path = f\"data/isos/{plz}_25-03-14_isochrones_6x5min__{m}.parquet\"\n",
    "        #file_pattern = f\"data/isos/{plz}_*_isochrones_6x5min__{m}.parquet\"\n",
    "        #file_pattern = f\"data/isos/failed_plz_iso/{plz}_*_isochrones_6x5min__{m}.parquet\"\n",
    "        file_pattern = f\"{isochronen_dir}/{plz}_*_isochrones_6x5min__{m}.parquet\"\n",
    "\n",
    "        \n",
    "        matching_files = glob.glob(file_pattern)\n",
    "        file_path = matching_files[0]  # Take the first match, shoud be unique\n",
    "        \n",
    "        isos_all = gpd.read_parquet(file_path)\n",
    "    \n",
    "        #isos_all = isos_all[:30].copy()  # Keep only a sample for testing\n",
    "    \n",
    "        log(f\"    Loaded {len(isos_all)} records.\")\n",
    "    \n",
    "        # Start subtraction process\n",
    "        #log(\" Subtraction Start:\", datetime.now().strftime('%Y-%m-%d %H:%M:%S'))\n",
    "        log(f\" Subtraction Start: {datetime.now().strftime('%Y-%m-%d %H:%M:%S')}\")\n",
    "    \n",
    "        # Sort values & reset index\n",
    "        subtraction_gdf_all = isos_all.sort_values(['id', 'time_bucket'], ascending=False).reset_index().copy()\n",
    "        all_raster_ids = subtraction_gdf_all['id'].unique()\n",
    "    \n",
    "        log(f\"    Unique Raster IDs: {len(all_raster_ids)}\")\n",
    "    \n",
    "        buckets_subs = subtraction_gdf_all['bucket'].max()\n",
    "    \n",
    "        # OLD LOOP-BASED SUBTRACTION (slow)\n",
    "        for r in tqdm(all_raster_ids, desc=\"Subtracting Geometries\"):\n",
    "            for index, row in subtraction_gdf_all[subtraction_gdf_all['id'] == r][:buckets_subs].iterrows():\n",
    "                if index + 1 >= len(subtraction_gdf_all):\n",
    "                    continue  # Prevent out-of-bounds index error\n",
    "    \n",
    "                geom1 = subtraction_gdf_all.loc[index, 'geometry']\n",
    "                geom2 = subtraction_gdf_all.loc[index + 1, 'geometry']\n",
    "    \n",
    "                subtraction_gdf_all.at[index, 'geometry'] = geom1.difference(geom2)\n",
    "    \n",
    "        # Remove empty geometries\n",
    "        subtraction_gdf_all = subtraction_gdf_all[~subtraction_gdf_all['geometry'].is_empty].copy()\n",
    "    \n",
    "        #log(\" Subtraction Done:\", datetime.now().strftime('%Y-%m-%d %H:%M:%S'))\n",
    "        log(f\" Subtraction Done: {datetime.now().strftime('%Y-%m-%d %H:%M:%S')}\")\n",
    "    \n",
    "        # TOPO Cleaner/Simplifier\n",
    "        log(\" Starting TopoJSON Simplification...\")\n",
    "    \n",
    "        warnings.filterwarnings(\"ignore\", category=RuntimeWarning)\n",
    "    \n",
    "        # Store simplified results\n",
    "        subtraction_gdf_all_tj___all = gpd.GeoDataFrame()\n",
    "    \n",
    "        for r in tqdm(all_raster_ids, desc=\"Simplifying Polygons\"):\n",
    "            subset = subtraction_gdf_all[subtraction_gdf_all['id'] == r]\n",
    "    \n",
    "            if subset.empty:\n",
    "                continue  # Skip empty groups\n",
    "    \n",
    "            topo = topojson.Topology(subset, prequantize=False, topology=True)\n",
    "            #topo_simplified = topo.toposimplify(0.0002).to_gdf()\n",
    "            #topo = topo.topoquantize(75)\n",
    "            topo_simplified = topo.toposimplify(0.0002).to_gdf()\n",
    "            topo_simplified.crs = 'epsg:4326'\n",
    "            \n",
    "    \n",
    "            # Append results\n",
    "            subtraction_gdf_all_tj___all = pd.concat([subtraction_gdf_all_tj___all, topo_simplified])\n",
    "    \n",
    "        #log(\" TopoJSON Simplification Done:\", datetime.now().strftime('%Y-%m-%d %H:%M:%S'))\n",
    "        log(f\" TopoJSON Simplification Done: {datetime.now().strftime('%Y-%m-%d %H:%M:%S')}\")\n",
    "    \n",
    "        # Save as Parquet (Updated Naming)\n",
    "        #output_path = f\"data/isos/isodon/{plz}_25-03-15_isoDonuts_6x5min__{m}_simp0002.parquet\"\n",
    "        date_today= datetime.now().strftime('%Y-%m-%d')\n",
    "        output_path = f\"{output_dir_isodon}/{plz}_{date_today}_isoDonuts_6x5min__{m}_simp0002.parquet\"\n",
    "\n",
    "\n",
    "        subtraction_gdf_all_tj___all.to_parquet(output_path)\n",
    "    \n",
    "        log(f\" Saved to: {output_path}\\n\")\n"
   ]
  },
  {
   "cell_type": "code",
   "execution_count": null,
   "id": "fae31426-ab36-4003-8fb2-1a7ed5478baa",
   "metadata": {},
   "outputs": [],
   "source": []
  },
  {
   "cell_type": "code",
   "execution_count": null,
   "id": "d40b2a07-c2eb-483e-a280-f841a04a1142",
   "metadata": {},
   "outputs": [],
   "source": []
  }
 ],
 "metadata": {
  "kernelspec": {
   "display_name": "Python 3 (ipykernel)",
   "language": "python",
   "name": "python3"
  },
  "language_info": {
   "codemirror_mode": {
    "name": "ipython",
    "version": 3
   },
   "file_extension": ".py",
   "mimetype": "text/x-python",
   "name": "python",
   "nbconvert_exporter": "python",
   "pygments_lexer": "ipython3",
   "version": "3.12.6"
  }
 },
 "nbformat": 4,
 "nbformat_minor": 5
}
